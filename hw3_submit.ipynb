{
 "cells": [
  {
   "cell_type": "markdown",
   "metadata": {},
   "source": [
    "### Please submit all of the first homework assigment in this file"
   ]
  },
  {
   "cell_type": "markdown",
   "metadata": {},
   "source": [
    "Name: Laura Rossi\n"
   ]
  },
  {
   "cell_type": "markdown",
   "metadata": {},
   "source": [
    "Question 1:"
   ]
  },
  {
   "cell_type": "markdown",
   "metadata": {},
   "source": [
    "Queue class definition:"
   ]
  },
  {
   "cell_type": "code",
   "execution_count": 7,
   "metadata": {},
   "outputs": [],
   "source": [
    "import random\n",
    "import time\n",
    "import math"
   ]
  },
  {
   "cell_type": "code",
   "execution_count": 154,
   "metadata": {},
   "outputs": [],
   "source": [
    "from flarray import FixedLengthArray\n",
    "\n",
    "class Queue(FixedLengthArray):\n",
    "    '''Implementation of the queue abstract data structure as a child of FixedLengthArray'''\n",
    "            \n",
    "    def __init__(self,capacity):\n",
    "        ### hint: add pointers to start and end of queue\n",
    "        FixedLengthArray.__init__(self, capacity)\n",
    "        self.start=self.fla[0]\n",
    "        self.end=self.fla[0]\n",
    "            \n",
    "    def enqueue(self, item):\n",
    "        ### hint: dynamically change the start and end of queue locations using pointers \n",
    "        if self.size < self.capacity:\n",
    "            self.fla[self.size]=item\n",
    "            self.size +=1\n",
    "            self.start=self.fla[0]\n",
    "            self.end=self.fla[self.size-1]    \n",
    "        elif self.size > self.capacity:\n",
    "            raise ValueError(\"Error: Size exceeds capacity\")\n",
    "        else: \n",
    "            print (\"Queue is full\")\n",
    "    def dequeue(self):\n",
    "         ### hint: dynamically change the start and end of queue locations using pointers \n",
    "        i =1\n",
    "        if self.size > self.capacity:\n",
    "            raise ValueError(\"Error: Size exceeds capacity\")\n",
    "        elif self.size>0:\n",
    "            while i < (self.size):\n",
    "                self.fla[i-1]=self.fla[i]\n",
    "                i +=1\n",
    "            self.fla[i-1]=None\n",
    "            self.size -=1\n",
    "            self.start=self.fla[0]\n",
    "            self.end=self.fla[self.size-1]\n",
    "        else:\n",
    "            print (\"Queue is empty\")\n",
    "            \n"
   ]
  },
  {
   "cell_type": "code",
   "execution_count": null,
   "metadata": {},
   "outputs": [],
   "source": []
  },
  {
   "cell_type": "markdown",
   "metadata": {},
   "source": [
    "Queue class implementation with length 10:"
   ]
  },
  {
   "cell_type": "code",
   "execution_count": 155,
   "metadata": {},
   "outputs": [],
   "source": [
    "q = Queue(10)"
   ]
  },
  {
   "cell_type": "markdown",
   "metadata": {},
   "source": [
    "Question 2:\n",
    "\n",
    "We would like to maintain a sorted array – just like an array, but it is always sorted. What is the complexity of insert(), delete(), search(), extract_min(), extract_max()? (Remember that extract_min/max remove the item.)\n",
    "\n",
    "How can you improve the complexity of extract_min()? (It is okay if this comes at a cost to something else)\n"
   ]
  },
  {
   "cell_type": "markdown",
   "metadata": {},
   "source": [
    "Since this is an array it has fixed length and accessing any known location in it is O(1). \n",
    "for examples take this sample array with size 6: myArray = [4,7,9,13,Null,Null] \n",
    "\n",
    "Complexity of Insert (assuming the array is not full already): O(n)\n",
    "\n",
    "    In this case we don't need to extend the array, so insert requires the following steps:  \n",
    "    \n",
    "    1- find where the new item goes (since it's sorted). Since the array is sorted we can implement binary search, so this is O(log n). \n",
    "    \n",
    "    2- Move all the elements that are higher than our new item up by one place. In the worst case scenario, your new item is the very smallest and you need to move everything up one space. This takes n assignments so it's O(n). Say we are adding 2 to myArray, we need to move everything up so that it's [Null,4,7,9,13,Null]. \n",
    "    \n",
    "    3 - insert the new item where it goes. We already know where it goes from step 1 so this is O(1).\n",
    "    \n",
    "    Taking the highest order element this is O(n)\n",
    "        \n",
    "Complexity of delete: O(n)\n",
    "\n",
    "    To delete we don't need to search anything. We need to: access the element (which takes O(1)) and then move everything above it down one place. This takes O(n).  \n",
    "    \n",
    "Complexity of search: O(log n)\n",
    "\n",
    "    Since the array is sorted, we can implement binary search: go to the middle, if out item is greater than the middle element repeat on the top half, if it's lesser repeat on the the bottom half. Recurse. In the worst case this is O(log n).\n",
    "    \n",
    "Complexity of extract_max: O(1)\n",
    "\n",
    "    Since the array is ordered, to find max we jsut access the last element. This is O(1). Removing once we know where it is is similarly O(1)      \n",
    "    \n",
    "Complexity of extract_min: O(n)\n",
    "\n",
    "    Since the array is ordered, finding min() jsut requries accessing the first element. This is O(1). Removing it is O(1). Now, we need to move all other elements down one space, so that is O(n) since it takes n assignments.   \n",
    "\n",
    "One way of easily reducing the complexity of extract_min() would be to assign pointers to the min and max element. That way you don't have to move everything down (or up) one place when extracting_min. This does add the need to reassign the pointers each time you insert or delete an item by checking each element from the end inwards and either assigning the pointer if it's not null or moving on to the next if it null. If the whole array is null that would take O(n), which adds 1 to the multiplicative constant in insert and delete's O(n) term. We ignore constants so this is negligible, but it's not nonexisting ."
   ]
  },
  {
   "cell_type": "markdown",
   "metadata": {},
   "source": [
    "Question 3:"
   ]
  },
  {
   "cell_type": "code",
   "execution_count": 33,
   "metadata": {},
   "outputs": [],
   "source": [
    "from flarray import FixedLengthArray\n",
    "\n",
    "# HashTable works with integer inputs\n",
    "class HashTable(FixedLengthArray):\n",
    "    \n",
    "    '''Implementation of the hash table abstract data structure as a child of FixedLengthArray'''\n",
    "    # You can implement conflicts any way you like. I suggest simply using a python list\n",
    "    \n",
    "    def __init__(self,capacity):\n",
    "        FixedLengthArray.__init__(self,capacity) \n",
    "        self.maxIndex = self.capacity-1      \n",
    "        self.indexDigits = int(math.log(self.capacity,10))+1\n",
    "        \n",
    "    def insert(self, item):\n",
    "        if self.size > self.capacity:\n",
    "            raise ValueError(\"Error: Size exceeds capacity\")\n",
    "       \n",
    "        else: \n",
    "        #the HashTable is never really completely full even if size==capacity\n",
    "        #we can just keep extending the lists within it\n",
    "            itemDigits = int(math.log(item,10))+1\n",
    "            index=int((item/10**(itemDigits-self.indexDigits/2))%10**(self.indexDigits))\n",
    "            while index > self.maxIndex:\n",
    "                index = int(index/2)\n",
    "            if self.fla[index]==None:\n",
    "                self.fla[index]=item\n",
    "            elif isinstance(self.fla[index], list): \n",
    "                self.fla[index].append(item)\n",
    "            elif isinstance(self.fla[index], int):\n",
    "                self.fla[index]=[self.fla[index],item]     \n",
    "            self.size += 1\n",
    "            \n",
    "    def delete(self, item):        \n",
    "        if self.size > self.capacity:\n",
    "            raise ValueError(\"Error: Size exceeds capacity\")\n",
    "        elif self.size > 0:\n",
    "            itemDigits = int(math.log(item,10))+1\n",
    "            index=int((item/10**(itemDigits-self.indexDigits/2))%10**(self.indexDigits))\n",
    "            while index > self.maxIndex:\n",
    "                index = int(index/2)\n",
    "            if isinstance(self.fla[index], list):\n",
    "                if len(self.fla[index])==1:\n",
    "                    self.fla[index]=None\n",
    "                else:\n",
    "                    self.fla[index].remove(item)\n",
    "            else:\n",
    "                self.fla[index]=None\n",
    "            self.size -= 1\n",
    "        else:\n",
    "            print(\"HashTable is empty\")\n",
    "        \n",
    "    def search(self, item):\n",
    "        #returns True/False\n",
    "        itemDigits = int(math.log(item,10))+1\n",
    "        index=int((item/10**(itemDigits-self.indexDigits/2))%10**(self.indexDigits))\n",
    "        while index > self.maxIndex:\n",
    "            index = int(index/2)\n",
    "        if isinstance(self.fla[index], list):\n",
    "            return item in self.fla[index]\n",
    "        else: \n",
    "            if self.fla[index]==item:\n",
    "                return True\n",
    "            else: \n",
    "                return False\n",
    "    \n"
   ]
  },
  {
   "cell_type": "code",
   "execution_count": 37,
   "metadata": {},
   "outputs": [
    {
     "data": {
      "text/plain": [
       "False"
      ]
     },
     "execution_count": 37,
     "metadata": {},
     "output_type": "execute_result"
    }
   ],
   "source": [
    "h=HashTable(800)"
   ]
  },
  {
   "cell_type": "code",
   "execution_count": 296,
   "metadata": {},
   "outputs": [],
   "source": [
    "#Question 4\n",
    "\n",
    "import treeNode as tn\n",
    "\n",
    "class Tree(tn.TreeNode): #we could import this like we imported treeNode but that would require me submitting an additional .py file for you to run it \n",
    "    ''' a Tree is a TreeNode with a varaible for the depth'''\n",
    "    def __init__(self,key,depth=1,satellite_data=None):\n",
    "        tn.TreeNode.__init__(self,key, satellite_data=None)\n",
    "        self.depth=1\n",
    "        \n",
    "    def insert(self,key):\n",
    "        #search for the right place to insert the key. Key must be a right or left child of some node\n",
    "\n",
    "        new_node=tn.TreeNode(key) #optionally: TreeNode(key,satellite_data)\n",
    "        curr_node = self\n",
    "        curr_depth = 1\n",
    "        while True:\n",
    "            if new_node.key>curr_node.key:\n",
    "                if curr_node.right == None:\n",
    "                    curr_node.setRight(new_node) #assign new node as child of it's due parent\n",
    "                    new_node.setParent(curr_node) #assign due node as parent of new node \n",
    "                    if curr_depth>self.depth:\n",
    "                        self.depth=curr_depth+1 #add to depth if needed\n",
    "                    return\n",
    "                else: \n",
    "                    curr_node = curr_node.right\n",
    "                    curr_depth+=1\n",
    "            else:\n",
    "                if curr_node.left == None:\n",
    "                    curr_node.setLeft(new_node)\n",
    "                    new_node.setParent(curr_node)\n",
    "                    if curr_depth>self.depth:\n",
    "                        self.depth=curr_depth+1 \n",
    "                    return\n",
    "                else: \n",
    "                    curr_node = curr_node.left\n",
    "                    curr_depth+=1\n",
    "                    \n",
    "               \n",
    "    def getDepth(self):\n",
    "        return self.depth\n",
    "    \n",
    "    \n",
    "# function to produce sorted lists for testing\n",
    "def sortedList(n):\n",
    "    '''Produces a sorted list of all integers between 0 and n'''\n",
    "    myList = []\n",
    "    for i in range(n):\n",
    "        myList.append(i)\n",
    "    return myList\n",
    "\n"
   ]
  },
  {
   "cell_type": "markdown",
   "metadata": {},
   "source": [
    "Time the two insertions (sorted and random list):"
   ]
  },
  {
   "cell_type": "code",
   "execution_count": 308,
   "metadata": {},
   "outputs": [],
   "source": [
    "n=100"
   ]
  },
  {
   "cell_type": "code",
   "execution_count": 309,
   "metadata": {},
   "outputs": [],
   "source": [
    "sL=sortedList(n)\n",
    "myTree=Tree(n)"
   ]
  },
  {
   "cell_type": "code",
   "execution_count": 310,
   "metadata": {},
   "outputs": [
    {
     "name": "stdout",
     "output_type": "stream",
     "text": [
      "The slowest run took 5.25 times longer than the fastest. This could mean that an intermediate result is being cached.\n",
      "40.3 ms ± 20.3 ms per loop (mean ± std. dev. of 7 runs, 100 loops each)\n"
     ]
    }
   ],
   "source": [
    "%%timeit i=0\n",
    "while i < len(sL):\n",
    "    myTree.insert(sL[i]) \n",
    "    i += 1"
   ]
  },
  {
   "cell_type": "code",
   "execution_count": 311,
   "metadata": {},
   "outputs": [],
   "source": [
    "myTree=Tree(n)\n",
    "random.shuffle(sL)"
   ]
  },
  {
   "cell_type": "code",
   "execution_count": 312,
   "metadata": {},
   "outputs": [
    {
     "name": "stdout",
     "output_type": "stream",
     "text": [
      "The slowest run took 5.57 times longer than the fastest. This could mean that an intermediate result is being cached.\n",
      "36.5 ms ± 19.5 ms per loop (mean ± std. dev. of 7 runs, 100 loops each)\n"
     ]
    }
   ],
   "source": [
    "%%timeit\n",
    "i=0\n",
    "while i < len(sL):\n",
    "    myTree.insert(sL[i]) \n",
    "    i += 1"
   ]
  },
  {
   "cell_type": "markdown",
   "metadata": {},
   "source": [
    "Depth of each tree:"
   ]
  },
  {
   "cell_type": "code",
   "execution_count": 299,
   "metadata": {},
   "outputs": [
    {
     "name": "stdout",
     "output_type": "stream",
     "text": [
      "depth =  101\n"
     ]
    }
   ],
   "source": [
    "sL=sortedList(n)\n",
    "myTree=Tree(n)\n",
    "i=0\n",
    "while i < len(sL):\n",
    "    myTree.insert(sL[i])\n",
    "    i += 1\n",
    "print(\"depth = \",myTree.getDepth())"
   ]
  },
  {
   "cell_type": "code",
   "execution_count": 300,
   "metadata": {},
   "outputs": [
    {
     "name": "stdout",
     "output_type": "stream",
     "text": [
      "depth =  13\n"
     ]
    }
   ],
   "source": [
    "random.shuffle(sL)\n",
    "myTree=Tree(n)\n",
    "i=0\n",
    "while i < len(sL):\n",
    "    myTree.insert(sL[i])\n",
    "    i += 1\n",
    "print(\"depth = \",myTree.getDepth())"
   ]
  }
 ],
 "metadata": {
  "kernelspec": {
   "display_name": "Python 3",
   "language": "python",
   "name": "python3"
  },
  "language_info": {
   "codemirror_mode": {
    "name": "ipython",
    "version": 3
   },
   "file_extension": ".py",
   "mimetype": "text/x-python",
   "name": "python",
   "nbconvert_exporter": "python",
   "pygments_lexer": "ipython3",
   "version": "3.8.3"
  }
 },
 "nbformat": 4,
 "nbformat_minor": 4
}
