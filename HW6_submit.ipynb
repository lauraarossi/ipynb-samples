{
 "cells": [
  {
   "cell_type": "code",
   "execution_count": 25,
   "metadata": {},
   "outputs": [],
   "source": [
    "from pulp import *\n",
    "import networkx as nx \n",
    "import random"
   ]
  },
  {
   "cell_type": "markdown",
   "metadata": {},
   "source": [
    "#### Question 1: "
   ]
  },
  {
   "cell_type": "markdown",
   "metadata": {},
   "source": [
    "Problem definition:\n",
    "\n",
    "Goal: \n",
    "Maximize: Sum(Xi*Pi) for i in {blueberry, chocolate, vanilla} where X is the quantity and P the price it's sold at \n",
    "\n",
    "Variables: Xi for i in {blueberry, chocolate, vanilla}\n",
    "\n",
    "Parameters: \n",
    "Pi for i in {blueberry, chocolate, vanilla} s.t. P(blueberry)=$5, P(chocolate) = $4, P(vanilla)=$3\n",
    "X(blueberry) =  1.5*F + 0.5*S  +  0.5*O + M (F is cups of flour, S of sugar, O of oil, M of milk)\n",
    "X(chocolate) =  2*F   +   S    + 0.25*O + 0.5*M\n",
    "X(vanilla) =     F    + 0.75*S +   O    + 0.5*M\n",
    "\n",
    "Constraints: \n",
    "Sum(Fi for all i) <= 10\n",
    "Sum(Si for all i) <= 10\n",
    "Sum(Oi for all i) <= 10\n",
    "Sum(Mi for all i) <= 10"
   ]
  },
  {
   "cell_type": "code",
   "execution_count": 7,
   "metadata": {},
   "outputs": [
    {
     "data": {
      "text/plain": [
       "cakes:\n",
       "MAXIMIZE\n",
       "5*blueberry + 4*chocolate + 3*vanilla + 0\n",
       "SUBJECT TO\n",
       "_C1: 1.5 blueberry + 2 chocolate + vanilla <= 10\n",
       "\n",
       "_C2: 0.5 blueberry + chocolate + 0.75 vanilla <= 10\n",
       "\n",
       "_C3: 0.5 blueberry + 0.25 chocolate + vanilla <= 10\n",
       "\n",
       "_C4: blueberry + 0.5 chocolate + 0.5 vanilla <= 10\n",
       "\n",
       "VARIABLES\n",
       "blueberry Continuous\n",
       "chocolate Continuous\n",
       "vanilla Continuous"
      ]
     },
     "execution_count": 7,
     "metadata": {},
     "output_type": "execute_result"
    }
   ],
   "source": [
    "#define the LP\n",
    "prob = LpProblem(name=\"cakes\", sense=LpMaximize) #maximization problem\n",
    "\n",
    "# variables\n",
    "b=LpVariable(\"blueberry\",lowBound=0, cat=\"Continuous\")\n",
    "c=LpVariable(\"chocolate\",lowBound=0, cat=\"Continuous\")\n",
    "v=LpVariable(\"vanilla\",lowBound=0, cat=\"Continuous\")\n",
    "\n",
    "# constraints\n",
    "prob += 1.5*b + 2*c   +   v    <=10 #flour \n",
    "prob += 0.5*b +   c   + 0.75*v <=10 #sugar\n",
    "prob += 0.5*b + 0.25*c + v      <=10 #oil\n",
    "prob += 1*b   + 0.5*c + 0.5*v <=10 #milk\n",
    "\n",
    "# objective\n",
    "prob += 5*b+4*c+3*v #revenue\n",
    "\n",
    "prob\n"
   ]
  },
  {
   "cell_type": "code",
   "execution_count": 16,
   "metadata": {},
   "outputs": [],
   "source": [
    "#solve \n",
    "prob.solve()\n",
    "#value of solution\n",
    "Revenue= value(prob.objective)"
   ]
  },
  {
   "cell_type": "code",
   "execution_count": 17,
   "metadata": {},
   "outputs": [
    {
     "name": "stdout",
     "output_type": "stream",
     "text": [
      "blueberry = 6.6666667\n",
      "chocolate = 0.0\n",
      "vanilla = 0.0\n"
     ]
    }
   ],
   "source": [
    "for variable in prob.variables():\n",
    "    print(variable.name, \"=\", variable.varValue)"
   ]
  },
  {
   "cell_type": "markdown",
   "metadata": {},
   "source": [
    "#### Solution: \n",
    "\n",
    "blueberry = 6.6666667\n",
    "chocolate = 0.0\n",
    "vanilla = 0.0\n",
    "\n",
    "Max. revenue you can make = $33.3333335"
   ]
  },
  {
   "cell_type": "markdown",
   "metadata": {},
   "source": [
    "#### Question 2:"
   ]
  },
  {
   "cell_type": "code",
   "execution_count": 84,
   "metadata": {},
   "outputs": [],
   "source": [
    "def MinimumVertexCover(G):\n",
    "    #problem\n",
    "    prob = LpProblem(name=\"MinVerCover\", sense=LpMinimize)\n",
    "    #add a variable for each node\n",
    "    graph = pulp.LpVariable.dicts('node',(node for node in G.nodes),\n",
    "                                   lowBound=0,upBound=1,\n",
    "                                   cat='Integer')\n",
    "    #objective\n",
    "    prob += lpSum(graph[i] for i in G.nodes) \n",
    "    #constraint\n",
    "    prob += lpSum((graph[list(G.edges())[i][0]] + graph[list(G.edges())[i][1]]) for i in range(1,len(G.edges()))) >= 1\n",
    "    \n",
    "    print(prob) #view problem\n",
    "    \n",
    "    prob.solve()\n",
    "    \n",
    "    for variable in prob.variables():\n",
    "        print(variable.name, \"=\", variable.varValue)\n",
    "    \n",
    "    print(LpStatus[prob.status])\n",
    "    \n",
    "    return (value(prob.objective))"
   ]
  },
  {
   "cell_type": "code",
   "execution_count": 85,
   "metadata": {},
   "outputs": [],
   "source": [
    "# Copying the random graph function from HW 4 to test \n",
    "def RandomGraph(N,p):\n",
    "    '''Returns a graph with N nodes,\n",
    "    where there is a uniform probability p\n",
    "    of having an edge between two nodes'''\n",
    "    if (isinstance(N,int) == False or N<0):\n",
    "        print (\"please check that your first argument is a non-negative integer\")\n",
    "    if (p<0 or p >1):\n",
    "        print (\"please check that your second argument is a probability (number between 0 and 1)\")\n",
    "    \n",
    "    G=nx.Graph() \n",
    "    \n",
    "    for i in range(0,N):\n",
    "        G.add_node(i)\n",
    "        for j in range(0,N):\n",
    "            pS=random.uniform(0,1)\n",
    "            if pS <= p:\n",
    "                G.add_edge(i,j)\n",
    "            \n",
    "    return G"
   ]
  },
  {
   "cell_type": "code",
   "execution_count": 86,
   "metadata": {},
   "outputs": [],
   "source": [
    "#make a graph to test \n",
    "G=RandomGraph(8,0.9)"
   ]
  },
  {
   "cell_type": "code",
   "execution_count": 89,
   "metadata": {},
   "outputs": [
    {
     "data": {
      "image/png": "[encoded data removed]",
      "text/plain": [
       "<Figure size 432x288 with 1 Axes>"
      ]
     },
     "metadata": {},
     "output_type": "display_data"
    }
   ],
   "source": [
    "#view graph \n",
    "nx.draw(G,with_labels=True)"
   ]
  },
  {
   "cell_type": "code",
   "execution_count": 88,
   "metadata": {},
   "outputs": [
    {
     "name": "stdout",
     "output_type": "stream",
     "text": [
      "MinVerCover:\n",
      "MINIMIZE\n",
      "1*node_0 + 1*node_1 + 1*node_2 + 1*node_3 + 1*node_4 + 1*node_5 + 1*node_6 + 1*node_7 + 0\n",
      "SUBJECT TO\n",
      "_C1: 7 node_0 + 9 node_1 + 9 node_2 + 8 node_3 + 9 node_4 + 9 node_5\n",
      " + 8 node_6 + 9 node_7 >= 1\n",
      "\n",
      "VARIABLES\n",
      "0 <= node_0 <= 1 Integer\n",
      "0 <= node_1 <= 1 Integer\n",
      "0 <= node_2 <= 1 Integer\n",
      "0 <= node_3 <= 1 Integer\n",
      "0 <= node_4 <= 1 Integer\n",
      "0 <= node_5 <= 1 Integer\n",
      "0 <= node_6 <= 1 Integer\n",
      "0 <= node_7 <= 1 Integer\n",
      "\n",
      "node_0 = 0.0\n",
      "node_1 = 0.0\n",
      "node_2 = 0.0\n",
      "node_3 = 1.0\n",
      "node_4 = 0.0\n",
      "node_5 = 0.0\n",
      "node_6 = 0.0\n",
      "node_7 = 0.0\n",
      "Optimal\n"
     ]
    },
    {
     "data": {
      "text/plain": [
       "1.0"
      ]
     },
     "execution_count": 88,
     "metadata": {},
     "output_type": "execute_result"
    }
   ],
   "source": [
    "MinimumVertexCover(G)"
   ]
  },
  {
   "cell_type": "code",
   "execution_count": null,
   "metadata": {},
   "outputs": [],
   "source": []
  }
 ],
 "metadata": {
  "kernelspec": {
   "display_name": "Python 3",
   "language": "python",
   "name": "python3"
  },
  "language_info": {
   "codemirror_mode": {
    "name": "ipython",
    "version": 3
   },
   "file_extension": ".py",
   "mimetype": "text/x-python",
   "name": "python",
   "nbconvert_exporter": "python",
   "pygments_lexer": "ipython3",
   "version": "3.8.3"
  }
 },
 "nbformat": 4,
 "nbformat_minor": 4
}
