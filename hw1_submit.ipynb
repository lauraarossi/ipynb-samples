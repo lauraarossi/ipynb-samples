{
 "cells": [
  {
   "cell_type": "markdown",
   "metadata": {},
   "source": [
    "### Please submit all of the first homework assigment in this file"
   ]
  },
  {
   "cell_type": "markdown",
   "metadata": {},
   "source": [
    "Name: Laura Rossi\n"
   ]
  },
  {
   "cell_type": "code",
   "execution_count": 4,
   "metadata": {},
   "outputs": [],
   "source": [
    "#please run this first \n",
    "import sys \n",
    "import time\n",
    "import math #used for testing and sanity checks "
   ]
  },
  {
   "cell_type": "code",
   "execution_count": 5,
   "metadata": {},
   "outputs": [],
   "source": [
    "def square_root(y,epsilon): \n",
    "    '''square_root (y,epsilon)returns result within epsilon \n",
    "    of the square root of y using Babilonian method. Use y >= 0\n",
    "    and epsilon > 0'''\n",
    "    \n",
    "    #startTime = time.perf_counter() \n",
    "    try: float(y)==y or int(y)==y\n",
    "    except ValueError:\n",
    "        print(\"Please make sure y is a number.\")\n",
    "        y=float(input())\n",
    "    try: float(epsilon)==epsilon or int(epsilon)==epsilon\n",
    "    except ValueError:\n",
    "        print(\"Please make sure epsilon is a number.\")\n",
    "        epsilon=float(input())\n",
    "    \n",
    "    if y<0: #check numeric input\n",
    "        print(\"Please input y >= 0\")\n",
    "        y=float(input())\n",
    "    if epsilon <=0:\n",
    "        print(\"Please input epsilon >0\")\n",
    "        epsilon=float(input())\n",
    "    x = 2*epsilon \n",
    "    xStar = 0 \n",
    "    while abs(x-xStar)> epsilon:    \n",
    "        xStar = x\n",
    "        x = (x+(y/x))/2 \n",
    "    #endTime = time.perf_counter()  \n",
    "    return x "
   ]
  },
  {
   "cell_type": "code",
   "execution_count": 6,
   "metadata": {},
   "outputs": [
    {
     "data": {
      "text/plain": [
       "3.001166140943231"
      ]
     },
     "execution_count": 6,
     "metadata": {},
     "output_type": "execute_result"
    }
   ],
   "source": [
    "#Test square_root\n",
    "square_root(9,0.1)"
   ]
  },
  {
   "cell_type": "markdown",
   "metadata": {},
   "source": [
    "####Pseudo-code for sumofNSlow()\n",
    "\n",
    "def somofNSlow(n):\n",
    "    i = 0 \n",
    "    Result = 0 \n",
    "    while i < n:\n",
    "        Result = Result + i\n",
    "        i = i+1\n",
    "    Return Result"
   ]
  },
  {
   "cell_type": "code",
   "execution_count": 7,
   "metadata": {},
   "outputs": [],
   "source": [
    "def sumofNSlow(n): #find the sum of all positive integers [1,n]\n",
    "    if n <1: #request new input if n < 1  \n",
    "         n = int(input(\"Please input n >= 1\\n\")) \n",
    "    startTime = time.perf_counter() \n",
    "    i = 0 # one simple operation\n",
    "    Result = 0 # one simple operation\n",
    "    for i in range(n):# one simple operation, n times \n",
    "        i += 1 # one simple operation, n times\n",
    "        Result = Result + i # one simple operation, n times\n",
    "    endTime = time.perf_counter() #for corroborating complexity\n",
    "    print(\"The time elapsed was\", endTime - startTime, \"and the result is:\") \n",
    "    return Result\n",
    "    \n",
    "# not counting operations form error catching or from timer in complexity calcualtion since they are not intrinsic to the sum function requested "
   ]
  },
  {
   "cell_type": "markdown",
   "metadata": {},
   "source": [
    "#### Complexity of somofNslow(): \n",
    "3n +3 simple operations, so this function is O(n)\n"
   ]
  },
  {
   "cell_type": "code",
   "execution_count": 8,
   "metadata": {},
   "outputs": [
    {
     "name": "stdout",
     "output_type": "stream",
     "text": [
      "The time elapsed was 5.100000009861105e-06 and the result is:\n"
     ]
    },
    {
     "data": {
      "text/plain": [
       "55"
      ]
     },
     "execution_count": 8,
     "metadata": {},
     "output_type": "execute_result"
    }
   ],
   "source": [
    "#Test sumofNSlow\n",
    "sumofNSlow(10) "
   ]
  },
  {
   "cell_type": "markdown",
   "metadata": {},
   "source": [
    "####Pseudo-code for sumofNfast()\n",
    "\n",
    "def somofNSlow(n):\n",
    "    Result = 0 \n",
    "    Result = n(n+1)/2\n",
    "    Return Result"
   ]
  },
  {
   "cell_type": "code",
   "execution_count": 9,
   "metadata": {},
   "outputs": [],
   "source": [
    "def sumofNFast(n):\n",
    "    if n <1: #request new input if n < 1\n",
    "        n = int(input(\"Please input n >= 1\\n\"))\n",
    "    startTime = time.perf_counter()\n",
    "    Result = 0 #one simple operation\n",
    "    Half = n/2 #one simple operation\n",
    "    firstItem = 1 #one simple operation\n",
    "    lastItem = n #one simple operation\n",
    "    Result = Half * (firstItem + lastItem) # two simple operations \n",
    "    endTime = time.perf_counter()  \n",
    "    print(\"The time elapsed was\", endTime - startTime, \"and the result is:\") \n",
    "    return Result #one simple operation"
   ]
  },
  {
   "cell_type": "markdown",
   "metadata": {},
   "source": [
    "##### Complexity of sumofNfast():\n",
    "There's a constant number simple operations regardless of n size, so this function has complexity O(1)\n",
    "\n",
    "#### Notes: \n",
    "- I'm not counting operations form error catching or from timer in complexity calcualtion since they are not intrinsic to the sum function requested \n",
    "- note this function returns a float rather than an int like sumofNSlow dows because of computing n/2. Since there's no data type requirements specified I left it as is.\n"
   ]
  },
  {
   "cell_type": "code",
   "execution_count": 10,
   "metadata": {},
   "outputs": [
    {
     "name": "stdout",
     "output_type": "stream",
     "text": [
      "The time elapsed was 1.8000000068241206e-06 and the result is:\n"
     ]
    },
    {
     "data": {
      "text/plain": [
       "55.0"
      ]
     },
     "execution_count": 10,
     "metadata": {},
     "output_type": "execute_result"
    }
   ],
   "source": [
    "# Test sumofNFast\n",
    "sumofNFast(10)"
   ]
  },
  {
   "cell_type": "markdown",
   "metadata": {},
   "source": [
    "#### Question: Is the second implementation really independent of the input size? "
   ]
  },
  {
   "cell_type": "markdown",
   "metadata": {},
   "source": [
    "Answer: Not quite. We can show this empirically: The increment in time elapsed to compute the sum doesn't increase in any meaningful way if we double a number (e.g. the time elapsed is roughly 2 e-06 whether we compute n =10, n=100, n=100 or n=1000). That said, if I increase n by a lot (e.g. n=9999999999999999999999999) the time grows to roughly somehwere between 3 and 5 e-06. \n",
    "This can be explained by the additional resources (time & memory) the computer requires to perform arithmetic computations with very large values. However, as discussed in class, this kind of increase in computational complexity can be addressed through additional computing power or by waiting for Moore's law to work it's magic (in contrast to a problem where complexity is exponential, which cannot be solved by throwing computing power at it)."
   ]
  },
  {
   "cell_type": "code",
   "execution_count": 11,
   "metadata": {},
   "outputs": [],
   "source": [
    "def palindrome(s):\n",
    "    if type(s) != str:\n",
    "        s = input(\"Please input a string.\\n\")\n",
    "    i = 0\n",
    "    if len(s)<= 1:\n",
    "        return True #zero o one character strings are by definition palindromes\n",
    "    while i <= int(len(s)/2): #using int() to drop the .5 from halving strings with an odd number of characters\n",
    "        if s[i].lower() != s[-i-1].lower():\n",
    "            return False\n",
    "        i += 1 \n",
    "    return True"
   ]
  },
  {
   "cell_type": "code",
   "execution_count": 12,
   "metadata": {},
   "outputs": [
    {
     "name": "stdout",
     "output_type": "stream",
     "text": [
      "False\n"
     ]
    },
    {
     "data": {
      "text/plain": [
       "True"
      ]
     },
     "execution_count": 12,
     "metadata": {},
     "output_type": "execute_result"
    }
   ],
   "source": [
    "#Test\n",
    "print(palindrome(\"palindrome\"))\n",
    "(palindrome(\"viv\"))"
   ]
  },
  {
   "cell_type": "code",
   "execution_count": 13,
   "metadata": {},
   "outputs": [],
   "source": [
    "#mystery1 takes as input a list of integers and finds the smallest difference between any two numbers in the list \n",
    "def mystery1 (myList):\n",
    "    if len(myList)<2:\n",
    "        print(\"List must be of length at least 2\")\n",
    "        return None\n",
    "    if not all(isinstance(x, int) for x in myList):\n",
    "        print(\"Input list must be all integers\")\n",
    "        return None\n",
    "    smallestDif=abs(myList[1]-myList[0])\n",
    "    for i in range(len(myList)-1):\n",
    "        for j in range(i+1, len(myList)):\n",
    "            if abs(myList[i]-myList[j])<smallestDif:\n",
    "                smallestDif=abs(myList[i]-myList[j])\n",
    "    return smallestDif"
   ]
  },
  {
   "cell_type": "code",
   "execution_count": 14,
   "metadata": {},
   "outputs": [],
   "source": [
    "#function to produce lists of length c to test mistery1()\n",
    "def worstCaseList(c): #returns a list with C elements where the difference between Cj and Cj-1 is twice the difference between Cj-1 and Cj-2 for each j in C  \n",
    "    l=[]\n",
    "    diff_l=list(range(c+1))\n",
    "    for i in range(c):\n",
    "        l.append(c+2**diff_l[i])\n",
    "        i=i+1\n",
    "    return l\n",
    "\n",
    "#worstCaseList(7)"
   ]
  },
  {
   "cell_type": "code",
   "execution_count": 15,
   "metadata": {},
   "outputs": [
    {
     "name": "stdout",
     "output_type": "stream",
     "text": [
      "The time to run mySequence of length 22  is 4.6999999995023245e-05\n",
      "The time to run mySequence of length 23  is 6.489999998393614e-05\n",
      "The time to run mySequence of length 24  is 6.719999998949788e-05\n"
     ]
    }
   ],
   "source": [
    "mySequences = [worstCaseList(22),worstCaseList(23),worstCaseList(24)] \n",
    "\n",
    "i = 0\n",
    "l=[]\n",
    "\n",
    "while i < len(mySequences): \n",
    "    startTime = time.perf_counter()\n",
    "    mystery1(mySequences[i]) \n",
    "    endTime = time.perf_counter()\n",
    "    l.append(endTime-startTime)\n",
    "    print (\"The time to run mySequence of length\", len(mySequences[i]),\" is\", l[i],)\n",
    "    i += 1"
   ]
  },
  {
   "cell_type": "markdown",
   "metadata": {},
   "source": [
    "#### Complexity of mistery1:\n",
    "\n",
    "Copy of the output with lists of length 22, 23, 24:\n",
    "\n",
    "\"The time to run mySequence of length 22  is 4.7699999868200393e-05\n",
    "The time to run mySequence of length 23  is 8.37000000046828e-05\n",
    "The time to run mySequence of length 24  is 0.0001002999999855092\n",
    "[4.7699999868200393e-05, 8.37000000046828e-05, 0.0001002999999855092]\"\n",
    "\n",
    "Based on the time stamps, adding 1 to n roughly doubles the run time, so time complexity is O(n^2)"
   ]
  },
  {
   "cell_type": "markdown",
   "metadata": {},
   "source": [
    "#### Question: For which values of n is a program that runs in:"
   ]
  },
  {
   "cell_type": "markdown",
   "metadata": {},
   "source": [
    "Note: I will focus on n>= 0 for the next 3 questions because we won't encounter a negative length input"
   ]
  },
  {
   "cell_type": "markdown",
   "metadata": {},
   "source": [
    "#### 2^n slower than 1000n^3 ? \n",
    "2^n > 1000n^3. If we solve for n, 2^n is larger than 1000n^3 for negative numbers and values roughly between 0 and 24.\n",
    "Shown below:"
   ]
  },
  {
   "cell_type": "code",
   "execution_count": 16,
   "metadata": {},
   "outputs": [
    {
     "name": "stdout",
     "output_type": "stream",
     "text": [
      "2^n is slower than 1000n^3 when n =  0\n",
      "2^n is faster than 1000n^3 when n =  0.9999\n",
      "2^n is faster than 1000n^3 when n =  1\n",
      "2^n is faster than 1000n^3 when n =  10\n",
      "2^n is faster than 1000n^3 when n =  23\n",
      "2^n is slower than 1000n^3 when n =  24\n",
      "2^n is slower than 1000n^3 when n =  25\n",
      "2^n is slower than 1000n^3 when n =  26\n",
      "2^n is slower than 1000n^3 when n =  27\n",
      "2^n is slower than 1000n^3 when n =  2400\n"
     ]
    }
   ],
   "source": [
    "#Example:\n",
    "myList=[0,0.9999,1,10,23,24,25,26,27,2400]\n",
    "\n",
    "for i in range(len(myList)): \n",
    "    if not type(myList[i]) == int and not type(myList[i]) == float:\n",
    "        print (\"Found a list item that is not numeric. Please input only numbers.\")\n",
    "    elif (2**(myList[i])>1000*((myList[i])**3)):\n",
    "        print (\"2^n is slower than 1000n^3 when n = \",myList[i])\n",
    "    elif (2**(myList[i])<1000*((myList[i])**3)):\n",
    "        print (\"2^n is faster than 1000n^3 when n = \",myList[i])\n",
    "    elif (2**(myList[i])==1000*((myList[i])**3)):\n",
    "        print (\"2^n and 1000n^3 are roughly the same, time complexity wise, when n = \",myList[i])     \n",
    "        "
   ]
  },
  {
   "cell_type": "markdown",
   "metadata": {},
   "source": [
    "#### 1000 log⁡ n slower than n?\n",
    "Log is defined for n>0, so I will respond for values n>0: \n",
    "\n",
    "We are looking for 1000log n > n. Solving for n, 1000logn is larger than n roughly for values between 1 and 3550.\n",
    "Note: I'm assuming log = log10"
   ]
  },
  {
   "cell_type": "code",
   "execution_count": 17,
   "metadata": {},
   "outputs": [
    {
     "name": "stdout",
     "output_type": "stream",
     "text": [
      "1000log(n) is faster than n when n =  1e-05\n",
      "1000log(n) is faster than n when n =  1\n",
      "1000log(n) is slower than n when n =  2\n",
      "1000log(n) is slower than n when n =  5\n",
      "1000log(n) is slower than n when n =  10\n",
      "1000log(n) is slower than n when n =  2000\n",
      "1000log(n) is slower than n when n =  3500\n",
      "1000log(n) is faster than n when n =  3560\n",
      "1000log(n) is faster than n when n =  3590\n",
      "1000log(n) is faster than n when n =  7000\n"
     ]
    }
   ],
   "source": [
    "#Examples:\n",
    "myList=[0.00001,1,2,5,10,2000,3500,3560,3590,7000,] \n",
    "\n",
    "for i in range(len(myList)): \n",
    "    if not type(myList[i]) == int and not type(myList[i]) == float:\n",
    "        print (\"Found a list item that is not numeric. Please input only numbers.\")\n",
    "    elif ((1000*math.log10(myList[i]))>myList[i]):\n",
    "        print (\"1000log(n) is slower than n when n = \",myList[i])\n",
    "    elif ((1000*math.log10(myList[i]))<myList[i]):\n",
    "        print (\"1000log(n) is faster than n when n = \",myList[i])\n",
    "    elif ((1000*math.log10(myList[i],10))==myList[i]):\n",
    "        print (\"1000log(n) and n are roughly the same, time complexity wise, when n = \",myList[i])     \n"
   ]
  },
  {
   "cell_type": "markdown",
   "metadata": {},
   "source": [
    "#### 1000n slower than n^2?\n",
    "1000n > n^2 \n",
    "Whenever n is in (0,1000)"
   ]
  },
  {
   "cell_type": "code",
   "execution_count": 18,
   "metadata": {},
   "outputs": [
    {
     "name": "stdout",
     "output_type": "stream",
     "text": [
      "1000n and n^2 are roughly the same, time complexity wise, when n =  0\n",
      "1000n is slower than n^2 when n =  1\n",
      "1000n is slower than n^2 when n =  100\n",
      "1000n and n^2 are roughly the same, time complexity wise, when n =  1000\n",
      "1000n is faster than n^2 when n =  2000\n"
     ]
    }
   ],
   "source": [
    "#Examples:\n",
    "myList=[0,1,100,1000,2000] \n",
    "\n",
    "for i in range(len(myList)): \n",
    "    if not type(myList[i]) == int and not type(myList[i]) == float:\n",
    "        print (\"Found a list item that is not numeric. Please input only numbers.\")\n",
    "    elif (1000*(myList[i])>myList[i]**2):\n",
    "        print (\"1000n is slower than n^2 when n = \",myList[i])\n",
    "    elif (1000*(myList[i])<myList[i]**2):\n",
    "        print (\"1000n is faster than n^2 when n = \",myList[i])\n",
    "    elif (1000*(myList[i])==myList[i]**2):\n",
    "        print (\"1000n and n^2 are roughly the same, time complexity wise, when n = \",myList[i])     \n"
   ]
  }
 ],
 "metadata": {
  "kernelspec": {
   "display_name": "Python 3",
   "language": "python",
   "name": "python3"
  },
  "language_info": {
   "codemirror_mode": {
    "name": "ipython",
    "version": 3
   },
   "file_extension": ".py",
   "mimetype": "text/x-python",
   "name": "python",
   "nbconvert_exporter": "python",
   "pygments_lexer": "ipython3",
   "version": "3.8.3"
  }
 },
 "nbformat": 4,
 "nbformat_minor": 4
}
