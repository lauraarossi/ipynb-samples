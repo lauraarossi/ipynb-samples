{
 "cells": [
  {
   "cell_type": "markdown",
   "metadata": {},
   "source": [
    "### Please submit all of the first homework assigment in this file"
   ]
  },
  {
   "cell_type": "markdown",
   "metadata": {},
   "source": [
    "Name: Laura Rossi\n"
   ]
  },
  {
   "cell_type": "markdown",
   "metadata": {},
   "source": [
    "Import relevant libraries:"
   ]
  },
  {
   "cell_type": "code",
   "execution_count": 41,
   "metadata": {},
   "outputs": [],
   "source": [
    "import time\n",
    "import pandas as pd\n",
    "import matplotlib.pylab as plt\n",
    "import seaborn as sns\n",
    "import random"
   ]
  },
  {
   "cell_type": "markdown",
   "metadata": {},
   "source": [
    "Question 1a: Implementation of iterative factorial"
   ]
  },
  {
   "cell_type": "code",
   "execution_count": 42,
   "metadata": {},
   "outputs": [],
   "source": [
    "def iterativeFactorial(n):\n",
    "    if (type(n)!= int or abs(n)!=n): #error handling \n",
    "        print(n, \"is not a non-negative integer\")\n",
    "        n=int(input(\"Please input a non negative integer\")) \n",
    "    \n",
    "    if n==1 or n == 0:  # base case\n",
    "        return 1\n",
    "    elif n>1:\n",
    "        Result = 1\n",
    "        i = n\n",
    "        while i > 0:\n",
    "            Result = Result * i \n",
    "            i=i-1\n",
    "    return Result          "
   ]
  },
  {
   "cell_type": "markdown",
   "metadata": {},
   "source": [
    "Test iterative factorial:"
   ]
  },
  {
   "cell_type": "code",
   "execution_count": 44,
   "metadata": {},
   "outputs": [
    {
     "data": {
      "text/plain": [
       "9426890448883247745626185743057242473809693764078951663494238777294707070023223798882976159207729119823605850588608460429412647567360000000000000000000000"
      ]
     },
     "execution_count": 44,
     "metadata": {},
     "output_type": "execute_result"
    }
   ],
   "source": [
    "iterativeFactorial(98)"
   ]
  },
  {
   "cell_type": "markdown",
   "metadata": {},
   "source": [
    "Question 1b: Convert integer to binary string"
   ]
  },
  {
   "cell_type": "code",
   "execution_count": 73,
   "metadata": {},
   "outputs": [],
   "source": [
    "def toBinStr(number):\n",
    "    '''converts integers to binary'''\n",
    "    \n",
    "    try:\n",
    "        abs(number)\n",
    "    except:\n",
    "        print (\"It looks like your input is not an integer. Please input na integer.\")\n",
    "        number=int(input())\n",
    "    \n",
    "    binStr = \"01\"\n",
    "    \n",
    "    if -2 < number <2: # no recursion\n",
    "        if number <0: # negative numbers\n",
    "            return (\"-\" + binStr[int(number)])\n",
    "        else: #non-negative\n",
    "            return binStr[int(number)]\n",
    "    elif number <= -2: #recursion, negatives\n",
    "        return \"-\"+toBinStr(number/-2)+binStr[number%-2]\n",
    "    elif number >= 2: #recursion, non-negatives\n",
    "        return toBinStr(int(number/2))+binStr[int(number%2)]"
   ]
  },
  {
   "cell_type": "markdown",
   "metadata": {},
   "source": [
    "Test toBinStr()"
   ]
  },
  {
   "cell_type": "code",
   "execution_count": 76,
   "metadata": {},
   "outputs": [
    {
     "data": {
      "text/plain": [
       "'11'"
      ]
     },
     "execution_count": 76,
     "metadata": {},
     "output_type": "execute_result"
    }
   ],
   "source": [
    "toBinStr(3)"
   ]
  },
  {
   "cell_type": "markdown",
   "metadata": {},
   "source": [
    "Question 2:"
   ]
  },
  {
   "cell_type": "code",
   "execution_count": 154,
   "metadata": {},
   "outputs": [],
   "source": [
    "def recursiveBinSearch(myList, item):\n",
    "    '''searches for item in myList recursively'''\n",
    "    try:\n",
    "        myList.copy()\n",
    "    except:\n",
    "        print(\"Looks like your first argument may not be a list. Please retry\")\n",
    "        return\n",
    "    \n",
    "    lowerLimit = 0 # smallest possible index for the item\n",
    "    upperLimit = len(myList)-1 # largest possible index for the item\n",
    "\n",
    "    if upperLimit <= 1: #base cases\n",
    "        if myList[0] == item: \n",
    "            return True\n",
    "        elif len(myList) > 1:\n",
    "            if myList[1] == item:\n",
    "                return True\n",
    "            else:\n",
    "                return False\n",
    "        else:\n",
    "            return False\n",
    "        \n",
    "    elif lowerLimit <= upperLimit: #recursions\n",
    "        # check if the item is at midpoint. If it is, return True. If it is not, halve the range to the left half if \n",
    "        # the item at midpoint is bigger that the item we are searching for and the right otherwise\n",
    "        midpoint = (upperLimit + lowerLimit) // 2\n",
    "        if item <= myList[midpoint]: \n",
    "            myList = myList[0:midpoint+1]\n",
    "            return recursiveBinSearch(myList,item)\n",
    "        elif item >= myList[midpoint]:\n",
    "            myList = myList[midpoint:upperLimit+1]\n",
    "            return recursiveBinSearch(myList,item)"
   ]
  },
  {
   "cell_type": "markdown",
   "metadata": {},
   "source": [
    "Test recursiveBinSearch():"
   ]
  },
  {
   "cell_type": "code",
   "execution_count": 157,
   "metadata": {},
   "outputs": [
    {
     "data": {
      "text/plain": [
       "True"
      ]
     },
     "execution_count": 157,
     "metadata": {},
     "output_type": "execute_result"
    }
   ],
   "source": [
    "recursiveBinSearch([6,8,8],8)"
   ]
  },
  {
   "cell_type": "markdown",
   "metadata": {},
   "source": [
    "Test runtimes of three different search functions:"
   ]
  },
  {
   "cell_type": "code",
   "execution_count": 52,
   "metadata": {},
   "outputs": [],
   "source": [
    "# function to produce sorted lists for testing\n",
    "def sortedList(n):\n",
    "    '''Produces a sorted lsit of all integers between 0 and n'''\n",
    "    myList = []\n",
    "    for i in range(n):\n",
    "        myList.append(i)\n",
    "    return myList    "
   ]
  },
  {
   "cell_type": "code",
   "execution_count": 53,
   "metadata": {},
   "outputs": [],
   "source": [
    "#iterative search from week 1 \n",
    "def findItem(myList, item):\n",
    "    i=0\n",
    "    while i<len(myList):\n",
    "        if myList[i]==item:\n",
    "            return True\n",
    "        i = i+1\n",
    "    return False  "
   ]
  },
  {
   "cell_type": "code",
   "execution_count": 54,
   "metadata": {},
   "outputs": [],
   "source": [
    "#non recursive binary search from week 1 \n",
    "def findItemInSortedListFast(myList, item):\n",
    "    lowerLimit = 0 # smallest possible index for the item\n",
    "    upperLimit = len(myList)-1 # largest possible index for the item\n",
    "    i=0 \n",
    "    while lowerLimit <= upperLimit:\n",
    "        i=i+1\n",
    "        # check if the item is at midpoint. If it is, return True. If it is not, halve the range to the left half if \n",
    "        # the item at midpoint is bigger that the item we are searching for and the right otherwise\n",
    "        midpoint = (upperLimit + lowerLimit) // 2\n",
    "        if myList[midpoint]==item:\n",
    "            return (True,i)\n",
    "        elif myList[midpoint]<item:\n",
    "            lowerLimit = midpoint+1\n",
    "        else:\n",
    "            upperLimit = midpoint-1\n",
    "    return (False,i+1)"
   ]
  },
  {
   "cell_type": "code",
   "execution_count": 129,
   "metadata": {},
   "outputs": [],
   "source": [
    "#uses sortedList() to run all search functions on n lists of lengths 1 through n and returns list with output: item searched, list length, runtime\n",
    "inputs = []\n",
    "n=200\n",
    "for i in range(n):\n",
    "    inputs.append(sortedList(i+2))\n",
    "    \n",
    "outputsIterative = []\n",
    "for i in range(n):\n",
    "    lookupItem=random.randrange(n)\n",
    "    startTime=time.perf_counter() \n",
    "    findItem(inputs[i],lookupItem)\n",
    "    endTime=time.perf_counter() \n",
    "    outputsIterative.append([lookupItem,i,endTime-startTime,\"Iterative\"])\n",
    "\n",
    "outputsBinary = []\n",
    "for i in range(n):\n",
    "    lookupItem=random.randrange(n)\n",
    "    startTime=time.perf_counter() \n",
    "    findItemInSortedListFast(inputs[i],lookupItem)\n",
    "    endTime=time.perf_counter() \n",
    "    outputsBinary.append(([lookupItem,i,endTime-startTime,\"Binary\"]))\n",
    "\n",
    "outputsBinaryRecursive = []\n",
    "for i in range(n):\n",
    "    lookupItem=random.randrange(n)\n",
    "    startTime=time.perf_counter() \n",
    "    recursiveBinSearch(inputs[i],lookupItem)\n",
    "    endTime=time.perf_counter() \n",
    "    outputsBinaryRecursive.append(([lookupItem,i,endTime-startTime,\"Recursive\"]))"
   ]
  },
  {
   "cell_type": "code",
   "execution_count": 130,
   "metadata": {},
   "outputs": [
    {
     "data": {
      "text/html": [
       "<div>\n",
       "<style scoped>\n",
       "    .dataframe tbody tr th:only-of-type {\n",
       "        vertical-align: middle;\n",
       "    }\n",
       "\n",
       "    .dataframe tbody tr th {\n",
       "        vertical-align: top;\n",
       "    }\n",
       "\n",
       "    .dataframe thead th {\n",
       "        text-align: right;\n",
       "    }\n",
       "</style>\n",
       "<table border=\"1\" class=\"dataframe\">\n",
       "  <thead>\n",
       "    <tr style=\"text-align: right;\">\n",
       "      <th></th>\n",
       "      <th>Item</th>\n",
       "      <th>ListLength</th>\n",
       "      <th>RunTime</th>\n",
       "      <th>Function</th>\n",
       "    </tr>\n",
       "  </thead>\n",
       "  <tbody>\n",
       "    <tr>\n",
       "      <th>0</th>\n",
       "      <td>29</td>\n",
       "      <td>0</td>\n",
       "      <td>0.000004</td>\n",
       "      <td>Iterative</td>\n",
       "    </tr>\n",
       "    <tr>\n",
       "      <th>1</th>\n",
       "      <td>131</td>\n",
       "      <td>1</td>\n",
       "      <td>0.000002</td>\n",
       "      <td>Iterative</td>\n",
       "    </tr>\n",
       "    <tr>\n",
       "      <th>2</th>\n",
       "      <td>182</td>\n",
       "      <td>2</td>\n",
       "      <td>0.000003</td>\n",
       "      <td>Iterative</td>\n",
       "    </tr>\n",
       "    <tr>\n",
       "      <th>3</th>\n",
       "      <td>22</td>\n",
       "      <td>3</td>\n",
       "      <td>0.000003</td>\n",
       "      <td>Iterative</td>\n",
       "    </tr>\n",
       "    <tr>\n",
       "      <th>4</th>\n",
       "      <td>76</td>\n",
       "      <td>4</td>\n",
       "      <td>0.000004</td>\n",
       "      <td>Iterative</td>\n",
       "    </tr>\n",
       "    <tr>\n",
       "      <th>...</th>\n",
       "      <td>...</td>\n",
       "      <td>...</td>\n",
       "      <td>...</td>\n",
       "      <td>...</td>\n",
       "    </tr>\n",
       "    <tr>\n",
       "      <th>595</th>\n",
       "      <td>9</td>\n",
       "      <td>195</td>\n",
       "      <td>0.000005</td>\n",
       "      <td>Recursive</td>\n",
       "    </tr>\n",
       "    <tr>\n",
       "      <th>596</th>\n",
       "      <td>192</td>\n",
       "      <td>196</td>\n",
       "      <td>0.000006</td>\n",
       "      <td>Recursive</td>\n",
       "    </tr>\n",
       "    <tr>\n",
       "      <th>597</th>\n",
       "      <td>155</td>\n",
       "      <td>197</td>\n",
       "      <td>0.000005</td>\n",
       "      <td>Recursive</td>\n",
       "    </tr>\n",
       "    <tr>\n",
       "      <th>598</th>\n",
       "      <td>131</td>\n",
       "      <td>198</td>\n",
       "      <td>0.000004</td>\n",
       "      <td>Recursive</td>\n",
       "    </tr>\n",
       "    <tr>\n",
       "      <th>599</th>\n",
       "      <td>20</td>\n",
       "      <td>199</td>\n",
       "      <td>0.000005</td>\n",
       "      <td>Recursive</td>\n",
       "    </tr>\n",
       "  </tbody>\n",
       "</table>\n",
       "<p>600 rows × 4 columns</p>\n",
       "</div>"
      ],
      "text/plain": [
       "     Item  ListLength   RunTime   Function\n",
       "0      29           0  0.000004  Iterative\n",
       "1     131           1  0.000002  Iterative\n",
       "2     182           2  0.000003  Iterative\n",
       "3      22           3  0.000003  Iterative\n",
       "4      76           4  0.000004  Iterative\n",
       "..    ...         ...       ...        ...\n",
       "595     9         195  0.000005  Recursive\n",
       "596   192         196  0.000006  Recursive\n",
       "597   155         197  0.000005  Recursive\n",
       "598   131         198  0.000004  Recursive\n",
       "599    20         199  0.000005  Recursive\n",
       "\n",
       "[600 rows x 4 columns]"
      ]
     },
     "execution_count": 130,
     "metadata": {},
     "output_type": "execute_result"
    }
   ],
   "source": [
    "#builds dataframe with runtimes\n",
    "allOutput = outputsIterative+outputsBinary+outputsBinaryRecursive\n",
    "#print(allOutput)\n",
    "# plot the three lists of tuples!!\n",
    "df=pd.DataFrame(allOutput,columns=[\"Item\",\"ListLength\",\"RunTime\",\"Function\"])\n",
    "df"
   ]
  },
  {
   "cell_type": "code",
   "execution_count": 131,
   "metadata": {},
   "outputs": [
    {
     "data": {
      "image/png": "[encoded data removed]",
      "text/plain": [
       "<Figure size 432x288 with 1 Axes>"
      ]
     },
     "metadata": {
      "needs_background": "light"
     },
     "output_type": "display_data"
    }
   ],
   "source": [
    "plt1=sns.scatterplot(x=\"ListLength\", y=\"RunTime\",\n",
    "              hue=\"Function\",\n",
    "              data=df);"
   ]
  },
  {
   "cell_type": "code",
   "execution_count": 132,
   "metadata": {},
   "outputs": [
    {
     "data": {
      "image/png": "[encoded data removed]",
      "text/plain": [
       "<Figure size 432x288 with 1 Axes>"
      ]
     },
     "metadata": {
      "needs_background": "light"
     },
     "output_type": "display_data"
    }
   ],
   "source": [
    "plt2=sns.lineplot(x=\"ListLength\", y=\"RunTime\",\n",
    "              hue=\"Function\",data=df)"
   ]
  },
  {
   "cell_type": "markdown",
   "metadata": {},
   "source": [
    "Question 3: "
   ]
  },
  {
   "cell_type": "code",
   "execution_count": 133,
   "metadata": {},
   "outputs": [
    {
     "data": {
      "text/html": [
       "<div>\n",
       "<style scoped>\n",
       "    .dataframe tbody tr th:only-of-type {\n",
       "        vertical-align: middle;\n",
       "    }\n",
       "\n",
       "    .dataframe tbody tr th {\n",
       "        vertical-align: top;\n",
       "    }\n",
       "\n",
       "    .dataframe thead th {\n",
       "        text-align: right;\n",
       "    }\n",
       "</style>\n",
       "<table border=\"1\" class=\"dataframe\">\n",
       "  <thead>\n",
       "    <tr style=\"text-align: right;\">\n",
       "      <th></th>\n",
       "      <th>Unnamed: 0</th>\n",
       "      <th>carat</th>\n",
       "      <th>cut</th>\n",
       "      <th>color</th>\n",
       "      <th>clarity</th>\n",
       "      <th>depth</th>\n",
       "      <th>table</th>\n",
       "      <th>price</th>\n",
       "      <th>x</th>\n",
       "      <th>y</th>\n",
       "      <th>z</th>\n",
       "    </tr>\n",
       "  </thead>\n",
       "  <tbody>\n",
       "    <tr>\n",
       "      <th>1</th>\n",
       "      <td>2</td>\n",
       "      <td>0.21</td>\n",
       "      <td>Premium</td>\n",
       "      <td>E</td>\n",
       "      <td>SI1</td>\n",
       "      <td>59.8</td>\n",
       "      <td>61.0</td>\n",
       "      <td>326</td>\n",
       "      <td>3.89</td>\n",
       "      <td>3.84</td>\n",
       "      <td>2.31</td>\n",
       "    </tr>\n",
       "    <tr>\n",
       "      <th>2</th>\n",
       "      <td>3</td>\n",
       "      <td>0.23</td>\n",
       "      <td>Good</td>\n",
       "      <td>E</td>\n",
       "      <td>VS1</td>\n",
       "      <td>56.9</td>\n",
       "      <td>65.0</td>\n",
       "      <td>327</td>\n",
       "      <td>4.05</td>\n",
       "      <td>4.07</td>\n",
       "      <td>2.31</td>\n",
       "    </tr>\n",
       "    <tr>\n",
       "      <th>3</th>\n",
       "      <td>4</td>\n",
       "      <td>0.29</td>\n",
       "      <td>Premium</td>\n",
       "      <td>I</td>\n",
       "      <td>VS2</td>\n",
       "      <td>62.4</td>\n",
       "      <td>58.0</td>\n",
       "      <td>334</td>\n",
       "      <td>4.20</td>\n",
       "      <td>4.23</td>\n",
       "      <td>2.63</td>\n",
       "    </tr>\n",
       "    <tr>\n",
       "      <th>4</th>\n",
       "      <td>5</td>\n",
       "      <td>0.31</td>\n",
       "      <td>Good</td>\n",
       "      <td>J</td>\n",
       "      <td>SI2</td>\n",
       "      <td>63.3</td>\n",
       "      <td>58.0</td>\n",
       "      <td>335</td>\n",
       "      <td>4.34</td>\n",
       "      <td>4.35</td>\n",
       "      <td>2.75</td>\n",
       "    </tr>\n",
       "    <tr>\n",
       "      <th>5</th>\n",
       "      <td>6</td>\n",
       "      <td>0.24</td>\n",
       "      <td>Very Good</td>\n",
       "      <td>J</td>\n",
       "      <td>VVS2</td>\n",
       "      <td>62.8</td>\n",
       "      <td>57.0</td>\n",
       "      <td>336</td>\n",
       "      <td>3.94</td>\n",
       "      <td>3.96</td>\n",
       "      <td>2.48</td>\n",
       "    </tr>\n",
       "    <tr>\n",
       "      <th>6</th>\n",
       "      <td>7</td>\n",
       "      <td>0.24</td>\n",
       "      <td>Very Good</td>\n",
       "      <td>I</td>\n",
       "      <td>VVS1</td>\n",
       "      <td>62.3</td>\n",
       "      <td>57.0</td>\n",
       "      <td>336</td>\n",
       "      <td>3.95</td>\n",
       "      <td>3.98</td>\n",
       "      <td>2.47</td>\n",
       "    </tr>\n",
       "    <tr>\n",
       "      <th>7</th>\n",
       "      <td>8</td>\n",
       "      <td>0.26</td>\n",
       "      <td>Very Good</td>\n",
       "      <td>H</td>\n",
       "      <td>SI1</td>\n",
       "      <td>61.9</td>\n",
       "      <td>55.0</td>\n",
       "      <td>337</td>\n",
       "      <td>4.07</td>\n",
       "      <td>4.11</td>\n",
       "      <td>2.53</td>\n",
       "    </tr>\n",
       "    <tr>\n",
       "      <th>8</th>\n",
       "      <td>9</td>\n",
       "      <td>0.22</td>\n",
       "      <td>Fair</td>\n",
       "      <td>E</td>\n",
       "      <td>VS2</td>\n",
       "      <td>65.1</td>\n",
       "      <td>61.0</td>\n",
       "      <td>337</td>\n",
       "      <td>3.87</td>\n",
       "      <td>3.78</td>\n",
       "      <td>2.49</td>\n",
       "    </tr>\n",
       "    <tr>\n",
       "      <th>9</th>\n",
       "      <td>10</td>\n",
       "      <td>0.23</td>\n",
       "      <td>Very Good</td>\n",
       "      <td>H</td>\n",
       "      <td>VS1</td>\n",
       "      <td>59.4</td>\n",
       "      <td>61.0</td>\n",
       "      <td>338</td>\n",
       "      <td>4.00</td>\n",
       "      <td>4.05</td>\n",
       "      <td>2.39</td>\n",
       "    </tr>\n",
       "  </tbody>\n",
       "</table>\n",
       "</div>"
      ],
      "text/plain": [
       "   Unnamed: 0  carat        cut color clarity  depth  table  price     x  \\\n",
       "1           2   0.21    Premium     E     SI1   59.8   61.0    326  3.89   \n",
       "2           3   0.23       Good     E     VS1   56.9   65.0    327  4.05   \n",
       "3           4   0.29    Premium     I     VS2   62.4   58.0    334  4.20   \n",
       "4           5   0.31       Good     J     SI2   63.3   58.0    335  4.34   \n",
       "5           6   0.24  Very Good     J    VVS2   62.8   57.0    336  3.94   \n",
       "6           7   0.24  Very Good     I    VVS1   62.3   57.0    336  3.95   \n",
       "7           8   0.26  Very Good     H     SI1   61.9   55.0    337  4.07   \n",
       "8           9   0.22       Fair     E     VS2   65.1   61.0    337  3.87   \n",
       "9          10   0.23  Very Good     H     VS1   59.4   61.0    338  4.00   \n",
       "\n",
       "      y     z  \n",
       "1  3.84  2.31  \n",
       "2  4.07  2.31  \n",
       "3  4.23  2.63  \n",
       "4  4.35  2.75  \n",
       "5  3.96  2.48  \n",
       "6  3.98  2.47  \n",
       "7  4.11  2.53  \n",
       "8  3.78  2.49  \n",
       "9  4.05  2.39  "
      ]
     },
     "execution_count": 133,
     "metadata": {},
     "output_type": "execute_result"
    }
   ],
   "source": [
    "#improting dataset\n",
    "# dataset: # https://www.kaggle.com/shivam2503/diamonds\n",
    "# Diamonds dataset from kaggle. This is the diamonds dataset that comes with R's ggplot2 library. \n",
    "#I downloaded it to the same directory this script is in.  \n",
    "\n",
    "diamonds = pd.read_csv(\"diamonds.csv\")\n",
    "diamonds[1:10] #glimpse into dataset "
   ]
  },
  {
   "cell_type": "code",
   "execution_count": 136,
   "metadata": {},
   "outputs": [
    {
     "data": {
      "image/png": "[encoded data removed]",
      "text/plain": [
       "<Figure size 432x288 with 1 Axes>"
      ]
     },
     "metadata": {},
     "output_type": "display_data"
    }
   ],
   "source": [
    "# plot 1\n",
    "c=diamonds[\"cut\"].value_counts()\n",
    "plt2=plt.pie(c,labels=[\"Ideal\",\"Premium\",\"Very Good\",\"Good\",\"Fair\"])"
   ]
  },
  {
   "cell_type": "code",
   "execution_count": 140,
   "metadata": {},
   "outputs": [
    {
     "data": {
      "image/png": "[encoded data removed]",
      "text/plain": [
       "<Figure size 432x288 with 2 Axes>"
      ]
     },
     "metadata": {
      "needs_background": "light"
     },
     "output_type": "display_data"
    }
   ],
   "source": [
    "#Another plot, for the fun of it: \n",
    "plt3=plt.scatter(diamonds.carat,diamonds.clarity,c=diamonds.price)\n",
    "plt.xlabel(\"Carat\")\n",
    "plt.ylabel(\"Price\")\n",
    "_=plt.colorbar()"
   ]
  },
  {
   "cell_type": "markdown",
   "metadata": {},
   "source": [
    "Question 4:"
   ]
  },
  {
   "cell_type": "code",
   "execution_count": 141,
   "metadata": {},
   "outputs": [],
   "source": [
    "def insertionSort(aList):\n",
    "    try:\n",
    "        aList.copy()\n",
    "    except:\n",
    "        print (\"Looks like your input may not be a list, please check\")\n",
    "    \n",
    "    if len(aList) <=1: \n",
    "        return aList\n",
    "    else:\n",
    "        for j in range(0,len(aList)):\n",
    "            key = aList[j]\n",
    "            i = j-1\n",
    "            while aList[i]>key and  i>=0:\n",
    "                aList[i+1]=aList[i]\n",
    "                i=i-1\n",
    "            aList[i+1]=key\n",
    "    return aList"
   ]
  },
  {
   "cell_type": "code",
   "execution_count": 147,
   "metadata": {},
   "outputs": [
    {
     "data": {
      "text/plain": [
       "[2, 5, 5, 6, 8]"
      ]
     },
     "execution_count": 147,
     "metadata": {},
     "output_type": "execute_result"
    }
   ],
   "source": [
    "insertionSort([5,6,8,2,5])"
   ]
  },
  {
   "cell_type": "code",
   "execution_count": 25,
   "metadata": {},
   "outputs": [],
   "source": [
    "def mergeSort(aList):\n",
    "    if len(aList) > 1: \n",
    "        low = 0\n",
    "        high = len(aList)\n",
    "        middle = len(aList)//2\n",
    "        halfLow = aList[low:middle]\n",
    "        halfHigh = aList[middle:high] #middle element goes in bottom half\n",
    "    \n",
    "        mergeSort(halfLow) #recursion low\n",
    "        mergeSort(halfHigh) #recursion high\n",
    "    \n",
    "        i=j=k=0 \n",
    "        #merge(half1+half2)\n",
    "        while i < len(halfLow) and j < len(halfHigh):\n",
    "            if halfLow[i] < halfHigh[j]:\n",
    "                aList[k] = halfLow[i]\n",
    "                i += 1\n",
    "            else:\n",
    "                aList[k] = halfHigh[j]\n",
    "                j += 1\n",
    "            k += 1\n",
    "            \n",
    "        while i < len(halfLow):\n",
    "            aList[k] = halfLow[i]\n",
    "            i += 1\n",
    "            k += 1\n",
    "\n",
    "        while j < len(halfHigh):\n",
    "            aList[k]=halfHigh[j]\n",
    "            j += 1\n",
    "            k += 1\n",
    "            \n",
    "    return aList"
   ]
  },
  {
   "cell_type": "code",
   "execution_count": 26,
   "metadata": {},
   "outputs": [
    {
     "data": {
      "text/plain": [
       "['a', 'a', 'b']"
      ]
     },
     "execution_count": 26,
     "metadata": {},
     "output_type": "execute_result"
    }
   ],
   "source": [
    "mergeSort([\"a\",\"b\",\"a\"])"
   ]
  },
  {
   "cell_type": "code",
   "execution_count": 32,
   "metadata": {},
   "outputs": [],
   "source": [
    "#produces size n random list of integers for testing sorting functions\n",
    "def unsortedList(n):\n",
    "    aList = []\n",
    "    for i in range(n-1):\n",
    "        aList.append(random.randrange(-100,100))\n",
    "    return aList"
   ]
  },
  {
   "cell_type": "code",
   "execution_count": 37,
   "metadata": {},
   "outputs": [],
   "source": [
    "#pass inputs, collect runtime\n",
    "\n",
    "n = 500\n",
    "inputs = []\n",
    "for i in range(n):\n",
    "    inputs.append(unsortedList(n))\n",
    "    i = i+1\n",
    "\n",
    "outputInsertion=[]\n",
    "outputMerge = []\n",
    "for i in range(n):\n",
    "    startTime=time.perf_counter() \n",
    "    insertionSort(inputs[i])\n",
    "    endTime=time.perf_counter() \n",
    "    outputInsertion.append(([i,endTime-startTime,\"Insertion\"]))\n",
    "    \n",
    "for i in range(n):\n",
    "    startTime=time.perf_counter() \n",
    "    mergeSort(inputs[i])\n",
    "    endTime=time.perf_counter() \n",
    "    outputMerge.append(([i,endTime-startTime,\"Merge\"]))"
   ]
  },
  {
   "cell_type": "code",
   "execution_count": 38,
   "metadata": {},
   "outputs": [
    {
     "data": {
      "text/html": [
       "<div>\n",
       "<style scoped>\n",
       "    .dataframe tbody tr th:only-of-type {\n",
       "        vertical-align: middle;\n",
       "    }\n",
       "\n",
       "    .dataframe tbody tr th {\n",
       "        vertical-align: top;\n",
       "    }\n",
       "\n",
       "    .dataframe thead th {\n",
       "        text-align: right;\n",
       "    }\n",
       "</style>\n",
       "<table border=\"1\" class=\"dataframe\">\n",
       "  <thead>\n",
       "    <tr style=\"text-align: right;\">\n",
       "      <th></th>\n",
       "      <th>n</th>\n",
       "      <th>RunTime</th>\n",
       "      <th>Function</th>\n",
       "    </tr>\n",
       "  </thead>\n",
       "  <tbody>\n",
       "    <tr>\n",
       "      <th>0</th>\n",
       "      <td>0</td>\n",
       "      <td>0.009579</td>\n",
       "      <td>Insertion</td>\n",
       "    </tr>\n",
       "    <tr>\n",
       "      <th>1</th>\n",
       "      <td>1</td>\n",
       "      <td>0.010655</td>\n",
       "      <td>Insertion</td>\n",
       "    </tr>\n",
       "    <tr>\n",
       "      <th>2</th>\n",
       "      <td>2</td>\n",
       "      <td>0.010482</td>\n",
       "      <td>Insertion</td>\n",
       "    </tr>\n",
       "    <tr>\n",
       "      <th>3</th>\n",
       "      <td>3</td>\n",
       "      <td>0.010092</td>\n",
       "      <td>Insertion</td>\n",
       "    </tr>\n",
       "    <tr>\n",
       "      <th>4</th>\n",
       "      <td>4</td>\n",
       "      <td>0.010224</td>\n",
       "      <td>Insertion</td>\n",
       "    </tr>\n",
       "    <tr>\n",
       "      <th>...</th>\n",
       "      <td>...</td>\n",
       "      <td>...</td>\n",
       "      <td>...</td>\n",
       "    </tr>\n",
       "    <tr>\n",
       "      <th>995</th>\n",
       "      <td>495</td>\n",
       "      <td>0.001398</td>\n",
       "      <td>Merge</td>\n",
       "    </tr>\n",
       "    <tr>\n",
       "      <th>996</th>\n",
       "      <td>496</td>\n",
       "      <td>0.001491</td>\n",
       "      <td>Merge</td>\n",
       "    </tr>\n",
       "    <tr>\n",
       "      <th>997</th>\n",
       "      <td>497</td>\n",
       "      <td>0.001588</td>\n",
       "      <td>Merge</td>\n",
       "    </tr>\n",
       "    <tr>\n",
       "      <th>998</th>\n",
       "      <td>498</td>\n",
       "      <td>0.001448</td>\n",
       "      <td>Merge</td>\n",
       "    </tr>\n",
       "    <tr>\n",
       "      <th>999</th>\n",
       "      <td>499</td>\n",
       "      <td>0.001670</td>\n",
       "      <td>Merge</td>\n",
       "    </tr>\n",
       "  </tbody>\n",
       "</table>\n",
       "<p>1000 rows × 3 columns</p>\n",
       "</div>"
      ],
      "text/plain": [
       "       n   RunTime   Function\n",
       "0      0  0.009579  Insertion\n",
       "1      1  0.010655  Insertion\n",
       "2      2  0.010482  Insertion\n",
       "3      3  0.010092  Insertion\n",
       "4      4  0.010224  Insertion\n",
       "..   ...       ...        ...\n",
       "995  495  0.001398      Merge\n",
       "996  496  0.001491      Merge\n",
       "997  497  0.001588      Merge\n",
       "998  498  0.001448      Merge\n",
       "999  499  0.001670      Merge\n",
       "\n",
       "[1000 rows x 3 columns]"
      ]
     },
     "execution_count": 38,
     "metadata": {},
     "output_type": "execute_result"
    }
   ],
   "source": [
    "#builds dataframe with runtimes\n",
    "allOutput = outputInsertion+outputMerge\n",
    "#print(allOutput)\n",
    "# plot the three lists of tuples!!\n",
    "df2=pd.DataFrame(allOutput,columns=[\"n\",\"RunTime\",\"Function\"])\n",
    "df2"
   ]
  },
  {
   "cell_type": "code",
   "execution_count": 39,
   "metadata": {},
   "outputs": [
    {
     "data": {
      "image/png": "[encoded data removed]",
      "text/plain": [
       "<Figure size 432x288 with 1 Axes>"
      ]
     },
     "metadata": {
      "needs_background": "light"
     },
     "output_type": "display_data"
    }
   ],
   "source": [
    "plt2=sns.lineplot(x=\"n\", y=\"RunTime\",hue=\"Function\",data=df2)"
   ]
  }
 ],
 "metadata": {
  "kernelspec": {
   "display_name": "Python 3",
   "language": "python",
   "name": "python3"
  },
  "language_info": {
   "codemirror_mode": {
    "name": "ipython",
    "version": 3
   },
   "file_extension": ".py",
   "mimetype": "text/x-python",
   "name": "python",
   "nbconvert_exporter": "python",
   "pygments_lexer": "ipython3",
   "version": "3.8.3"
  }
 },
 "nbformat": 4,
 "nbformat_minor": 4
}
