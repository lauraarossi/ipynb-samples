{
 "cells": [
  {
   "cell_type": "code",
   "execution_count": 216,
   "metadata": {},
   "outputs": [],
   "source": [
    "import itertools\n",
    "import random\n",
    "import time\n",
    "import seaborn as sns\n",
    "import pandas as pd"
   ]
  },
  {
   "cell_type": "code",
   "execution_count": 217,
   "metadata": {},
   "outputs": [],
   "source": [
    "def SubsetSumBF(S,x):\n",
    "    '''If there is a subset of list S that adds up to x, \n",
    "    returns True and the first subset found that adds up\n",
    "    to x. If there isn't, it returns False'''\n",
    "    n=len(S)\n",
    "    for i in range(1,(n+1)):\n",
    "        for j in itertools.combinations(S,i):\n",
    "            if sum(j)==x:\n",
    "                return(True, j)\n",
    "    return False\n",
    "                        "
   ]
  },
  {
   "cell_type": "code",
   "execution_count": 218,
   "metadata": {},
   "outputs": [],
   "source": [
    "S=[12,3,4,6,8,0,7,5,4]"
   ]
  },
  {
   "cell_type": "code",
   "execution_count": 219,
   "metadata": {},
   "outputs": [
    {
     "data": {
      "text/plain": [
       "(True, (12, 8))"
      ]
     },
     "execution_count": 219,
     "metadata": {},
     "output_type": "execute_result"
    }
   ],
   "source": [
    "SubsetSumBF(S,20)"
   ]
  },
  {
   "cell_type": "code",
   "execution_count": 258,
   "metadata": {},
   "outputs": [],
   "source": [
    "def SubsetSumDP(S,x):\n",
    "    '''If there is a subset of list S that adds up to x, \n",
    "    returns True and the first subset found that adds up\n",
    "    to x. If there isn't, it returns False'''\n",
    "    n=len(S)    \n",
    "        \n",
    "    #base\n",
    "    if n == 0:\n",
    "        if x > 0: #set is empty and sum is >0\n",
    "            return False\n",
    "        elif x == 0: \n",
    "            return True\n",
    "    elif x == 0:\n",
    "        return True\n",
    "\n",
    "    #recursive\n",
    "    if n>0:\n",
    "        return (SubsetSumDP(S[:(n-1)],x) or SubsetSumDP(S[:(n-1)],(x-S[n-1])))\n",
    "    \n",
    "    return False"
   ]
  },
  {
   "cell_type": "code",
   "execution_count": 259,
   "metadata": {},
   "outputs": [
    {
     "data": {
      "text/plain": [
       "True"
      ]
     },
     "execution_count": 259,
     "metadata": {},
     "output_type": "execute_result"
    }
   ],
   "source": [
    "SubsetSumDP(S,20)"
   ]
  },
  {
   "cell_type": "code",
   "execution_count": 297,
   "metadata": {},
   "outputs": [],
   "source": [
    "def Sets(n,maxMember,seed=None):\n",
    "    try:\n",
    "        isinstance(maxMember, int)\n",
    "    except:\n",
    "        \"Please provide an integer for your second argument\"\n",
    "    \n",
    "    '''creates lists with n items each, \n",
    "    where the maximum member is maxMember\n",
    "    Optional: provide seed '''\n",
    "    random.seed(seed)\n",
    "    output = [None]*n\n",
    "    for i in range(0,(n-1)):\n",
    "        output[i]=random.randint(0,n)\n",
    "    output[n-1]=maxMember\n",
    "    \n",
    "    return output"
   ]
  },
  {
   "cell_type": "code",
   "execution_count": 298,
   "metadata": {},
   "outputs": [
    {
     "data": {
      "text/plain": [
       "[2, 9, 1, 4, 1, 7, 7, 7, 10, 100]"
      ]
     },
     "execution_count": 298,
     "metadata": {},
     "output_type": "execute_result"
    }
   ],
   "source": [
    "Sets(10,100,1)"
   ]
  },
  {
   "cell_type": "code",
   "execution_count": 304,
   "metadata": {},
   "outputs": [],
   "source": [
    "lengths = [4,8,10,20,43,56,100,1000]\n",
    "maxMembers = [4,15,17,37,59,99,131,567]\n",
    "\n",
    "DPoutput = [None]*len(lengths)\n",
    "BFoutput = [None]*len(lengths)\n",
    "\n",
    "for i in range(0,(len(lengths))):\n",
    "    sampleSet = Sets(lengths[i],maxMembers[i])\n",
    "    \n",
    "    startTimeBF = time.perf_counter() \n",
    "    SubsetSumBF(sampleSet,27)\n",
    "    endTimeBF = time.perf_counter() \n",
    "    startTimeDP = time.perf_counter() \n",
    "    SubsetSumDP(sampleSet,27)\n",
    "    endTimeDP =time.perf_counter()\n",
    "    \n",
    "    BFoutput[i] = (endTimeBF-startTimeBF)\n",
    "    DPoutput[i] = (endTimeDP-startTimeDP)"
   ]
  },
  {
   "cell_type": "code",
   "execution_count": 305,
   "metadata": {},
   "outputs": [
    {
     "name": "stdout",
     "output_type": "stream",
     "text": [
      "[1.1299998732283711e-05, 3.480000304989517e-05, 2.970000059576705e-05, 2.390000008745119e-05, 5.700003384845331e-06, 8.489999891025946e-05, 0.00016710000272723846, 1.1600001016631722e-05] \n",
      " [2.059999678749591e-05, 6.580000263056718e-05, 0.00013110000145388767, 2.640000093379058e-05, 0.018287599999894155, 0.00012710000009974465, 0.7987089000016567, 0.053841600001760526]\n"
     ]
    }
   ],
   "source": [
    "print(BFoutput,\"\\n\",DPoutput)"
   ]
  },
  {
   "cell_type": "code",
   "execution_count": 306,
   "metadata": {},
   "outputs": [
    {
     "data": {
      "text/html": [
       "<div>\n",
       "<style scoped>\n",
       "    .dataframe tbody tr th:only-of-type {\n",
       "        vertical-align: middle;\n",
       "    }\n",
       "\n",
       "    .dataframe tbody tr th {\n",
       "        vertical-align: top;\n",
       "    }\n",
       "\n",
       "    .dataframe thead th {\n",
       "        text-align: right;\n",
       "    }\n",
       "</style>\n",
       "<table border=\"1\" class=\"dataframe\">\n",
       "  <thead>\n",
       "    <tr style=\"text-align: right;\">\n",
       "      <th></th>\n",
       "      <th>Length</th>\n",
       "      <th>Max</th>\n",
       "      <th>BFtime</th>\n",
       "      <th>DPtime</th>\n",
       "    </tr>\n",
       "  </thead>\n",
       "  <tbody>\n",
       "    <tr>\n",
       "      <th>0</th>\n",
       "      <td>4</td>\n",
       "      <td>4</td>\n",
       "      <td>0.000011</td>\n",
       "      <td>0.000021</td>\n",
       "    </tr>\n",
       "    <tr>\n",
       "      <th>1</th>\n",
       "      <td>8</td>\n",
       "      <td>15</td>\n",
       "      <td>0.000035</td>\n",
       "      <td>0.000066</td>\n",
       "    </tr>\n",
       "    <tr>\n",
       "      <th>2</th>\n",
       "      <td>10</td>\n",
       "      <td>17</td>\n",
       "      <td>0.000030</td>\n",
       "      <td>0.000131</td>\n",
       "    </tr>\n",
       "    <tr>\n",
       "      <th>3</th>\n",
       "      <td>20</td>\n",
       "      <td>37</td>\n",
       "      <td>0.000024</td>\n",
       "      <td>0.000026</td>\n",
       "    </tr>\n",
       "    <tr>\n",
       "      <th>4</th>\n",
       "      <td>43</td>\n",
       "      <td>59</td>\n",
       "      <td>0.000006</td>\n",
       "      <td>0.018288</td>\n",
       "    </tr>\n",
       "    <tr>\n",
       "      <th>5</th>\n",
       "      <td>56</td>\n",
       "      <td>99</td>\n",
       "      <td>0.000085</td>\n",
       "      <td>0.000127</td>\n",
       "    </tr>\n",
       "    <tr>\n",
       "      <th>6</th>\n",
       "      <td>100</td>\n",
       "      <td>131</td>\n",
       "      <td>0.000167</td>\n",
       "      <td>0.798709</td>\n",
       "    </tr>\n",
       "    <tr>\n",
       "      <th>7</th>\n",
       "      <td>1000</td>\n",
       "      <td>567</td>\n",
       "      <td>0.000012</td>\n",
       "      <td>0.053842</td>\n",
       "    </tr>\n",
       "  </tbody>\n",
       "</table>\n",
       "</div>"
      ],
      "text/plain": [
       "   Length  Max    BFtime    DPtime\n",
       "0       4    4  0.000011  0.000021\n",
       "1       8   15  0.000035  0.000066\n",
       "2      10   17  0.000030  0.000131\n",
       "3      20   37  0.000024  0.000026\n",
       "4      43   59  0.000006  0.018288\n",
       "5      56   99  0.000085  0.000127\n",
       "6     100  131  0.000167  0.798709\n",
       "7    1000  567  0.000012  0.053842"
      ]
     },
     "execution_count": 306,
     "metadata": {},
     "output_type": "execute_result"
    }
   ],
   "source": [
    "df=pd.DataFrame(zip(lengths,maxMembers,BFoutput,DPoutput),columns=[\"Length\",\"Max\",\"BFtime\",\"DPtime\"])\n",
    "df"
   ]
  },
  {
   "cell_type": "code",
   "execution_count": 307,
   "metadata": {},
   "outputs": [
    {
     "data": {
      "text/plain": [
       "<matplotlib.axes._subplots.AxesSubplot at 0x256e431e1c0>"
      ]
     },
     "execution_count": 307,
     "metadata": {},
     "output_type": "execute_result"
    },
    {
     "data": {
      "image/png": "[encoded data removed]",
      "text/plain": [
       "<Figure size 432x288 with 1 Axes>"
      ]
     },
     "metadata": {
      "needs_background": "light"
     },
     "output_type": "display_data"
    }
   ],
   "source": [
    "tidy_df=pd.melt(df,id_vars=[\"Length\",\"Max\"],value_vars=[\"BFtime\",\"DPtime\"])\n",
    "tidy_df\n",
    "sns.lineplot(data=tidy_df, y=\"value\",x=\"Length\",hue=\"variable\")"
   ]
  },
  {
   "cell_type": "code",
   "execution_count": 308,
   "metadata": {},
   "outputs": [
    {
     "data": {
      "text/plain": [
       "<matplotlib.axes._subplots.AxesSubplot at 0x256e43e89a0>"
      ]
     },
     "execution_count": 308,
     "metadata": {},
     "output_type": "execute_result"
    },
    {
     "data": {
      "image/png": "[encoded data removed]",
      "text/plain": [
       "<Figure size 432x288 with 1 Axes>"
      ]
     },
     "metadata": {
      "needs_background": "light"
     },
     "output_type": "display_data"
    }
   ],
   "source": [
    "sns.lineplot(data=tidy_df, y=\"value\",x=\"Max\",hue=\"variable\")"
   ]
  },
  {
   "cell_type": "code",
   "execution_count": null,
   "metadata": {},
   "outputs": [],
   "source": []
  }
 ],
 "metadata": {
  "kernelspec": {
   "display_name": "Python 3",
   "language": "python",
   "name": "python3"
  },
  "language_info": {
   "codemirror_mode": {
    "name": "ipython",
    "version": 3
   },
   "file_extension": ".py",
   "mimetype": "text/x-python",
   "name": "python",
   "nbconvert_exporter": "python",
   "pygments_lexer": "ipython3",
   "version": "3.8.3"
  }
 },
 "nbformat": 4,
 "nbformat_minor": 4
}
